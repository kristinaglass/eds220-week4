{
 "cells": [
  {
   "cell_type": "markdown",
   "id": "147f1b25-5de0-4cdc-98e3-02d1541698f1",
   "metadata": {},
   "source": [
    "#Intro to Geopandas\n",
    "\n",
    "Geopandas is a Python Library for geospatial data\n",
    "\n",
    "Import it with its standard anbbreviation"
   ]
  },
  {
   "cell_type": "code",
   "execution_count": 1,
   "id": "593e4860-ef21-4ac6-92c6-3eb20f5c2d9b",
   "metadata": {
    "tags": []
   },
   "outputs": [],
   "source": [
    "# this is a library we will explore\n",
    "import geopandas as gpd\n",
    "\n",
    "# we will use for making map\n",
    "import matplotlib.pyplot as plt\n",
    "#libray.something else means we are importing a submodual of the library, not the entire libra"
   ]
  },
  {
   "cell_type": "markdown",
   "id": "0cf5f510-45df-4af5-9570-9f643899c75a",
   "metadata": {},
   "source": [
    "## Data\n",
    "\n",
    "We will use simplified data about wild pig (*Sus Scrofa*) sightings in CA. \n",
    "Data is from the Global Biodiversity Information Facility (GBIF).\n",
    "\n",
    "Read in the shapefile using the `geopandas` function gpd.read_file()"
   ]
  },
  {
   "cell_type": "code",
   "execution_count": 2,
   "id": "32a306a8-7ed4-411e-bfcb-5cf7dbb32c96",
   "metadata": {
    "tags": []
   },
   "outputs": [
    {
     "data": {
      "text/html": [
       "<div>\n",
       "<style scoped>\n",
       "    .dataframe tbody tr th:only-of-type {\n",
       "        vertical-align: middle;\n",
       "    }\n",
       "\n",
       "    .dataframe tbody tr th {\n",
       "        vertical-align: top;\n",
       "    }\n",
       "\n",
       "    .dataframe thead th {\n",
       "        text-align: right;\n",
       "    }\n",
       "</style>\n",
       "<table border=\"1\" class=\"dataframe\">\n",
       "  <thead>\n",
       "    <tr style=\"text-align: right;\">\n",
       "      <th></th>\n",
       "      <th>gbifID</th>\n",
       "      <th>species</th>\n",
       "      <th>state</th>\n",
       "      <th>individual</th>\n",
       "      <th>day</th>\n",
       "      <th>month</th>\n",
       "      <th>year</th>\n",
       "      <th>inst</th>\n",
       "      <th>collection</th>\n",
       "      <th>catalogNum</th>\n",
       "      <th>identified</th>\n",
       "      <th>geometry</th>\n",
       "    </tr>\n",
       "  </thead>\n",
       "  <tbody>\n",
       "    <tr>\n",
       "      <th>0</th>\n",
       "      <td>899953814</td>\n",
       "      <td>Sus scrofa</td>\n",
       "      <td>California</td>\n",
       "      <td>NaN</td>\n",
       "      <td>22.0</td>\n",
       "      <td>3.0</td>\n",
       "      <td>2014.0</td>\n",
       "      <td>iNaturalist</td>\n",
       "      <td>Observations</td>\n",
       "      <td>581956</td>\n",
       "      <td>edwardrooks</td>\n",
       "      <td>POINT (-121.53812 37.08846)</td>\n",
       "    </tr>\n",
       "    <tr>\n",
       "      <th>1</th>\n",
       "      <td>899951348</td>\n",
       "      <td>Sus scrofa</td>\n",
       "      <td>California</td>\n",
       "      <td>NaN</td>\n",
       "      <td>9.0</td>\n",
       "      <td>6.0</td>\n",
       "      <td>2007.0</td>\n",
       "      <td>iNaturalist</td>\n",
       "      <td>Observations</td>\n",
       "      <td>576047</td>\n",
       "      <td>Bruce Freeman</td>\n",
       "      <td>POINT (-120.54942 35.47354)</td>\n",
       "    </tr>\n",
       "    <tr>\n",
       "      <th>2</th>\n",
       "      <td>896560733</td>\n",
       "      <td>Sus scrofa</td>\n",
       "      <td>California</td>\n",
       "      <td>NaN</td>\n",
       "      <td>20.0</td>\n",
       "      <td>12.0</td>\n",
       "      <td>1937.0</td>\n",
       "      <td>MVZ</td>\n",
       "      <td>Hild</td>\n",
       "      <td>MVZ:Hild:195</td>\n",
       "      <td>Museum of Vertebrate Zoology, University of Ca...</td>\n",
       "      <td>POINT (-122.27063 37.87610)</td>\n",
       "    </tr>\n",
       "    <tr>\n",
       "      <th>3</th>\n",
       "      <td>896559958</td>\n",
       "      <td>Sus scrofa</td>\n",
       "      <td>California</td>\n",
       "      <td>NaN</td>\n",
       "      <td>1.0</td>\n",
       "      <td>4.0</td>\n",
       "      <td>1969.0</td>\n",
       "      <td>MVZ</td>\n",
       "      <td>Hild</td>\n",
       "      <td>MVZ:Hild:1213</td>\n",
       "      <td>Museum of Vertebrate Zoology, University of Ca...</td>\n",
       "      <td>POINT (-121.82297 38.44543)</td>\n",
       "    </tr>\n",
       "    <tr>\n",
       "      <th>4</th>\n",
       "      <td>896559722</td>\n",
       "      <td>Sus scrofa</td>\n",
       "      <td>California</td>\n",
       "      <td>NaN</td>\n",
       "      <td>1.0</td>\n",
       "      <td>1.0</td>\n",
       "      <td>1961.0</td>\n",
       "      <td>MVZ</td>\n",
       "      <td>Hild</td>\n",
       "      <td>MVZ:Hild:1004</td>\n",
       "      <td>Museum of Vertebrate Zoology, University of Ca...</td>\n",
       "      <td>POINT (-121.74559 38.54882)</td>\n",
       "    </tr>\n",
       "  </tbody>\n",
       "</table>\n",
       "</div>"
      ],
      "text/plain": [
       "      gbifID     species       state  individual   day  month    year  \\\n",
       "0  899953814  Sus scrofa  California         NaN  22.0    3.0  2014.0   \n",
       "1  899951348  Sus scrofa  California         NaN   9.0    6.0  2007.0   \n",
       "2  896560733  Sus scrofa  California         NaN  20.0   12.0  1937.0   \n",
       "3  896559958  Sus scrofa  California         NaN   1.0    4.0  1969.0   \n",
       "4  896559722  Sus scrofa  California         NaN   1.0    1.0  1961.0   \n",
       "\n",
       "          inst    collection     catalogNum  \\\n",
       "0  iNaturalist  Observations         581956   \n",
       "1  iNaturalist  Observations         576047   \n",
       "2          MVZ          Hild   MVZ:Hild:195   \n",
       "3          MVZ          Hild  MVZ:Hild:1213   \n",
       "4          MVZ          Hild  MVZ:Hild:1004   \n",
       "\n",
       "                                          identified  \\\n",
       "0                                        edwardrooks   \n",
       "1                                      Bruce Freeman   \n",
       "2  Museum of Vertebrate Zoology, University of Ca...   \n",
       "3  Museum of Vertebrate Zoology, University of Ca...   \n",
       "4  Museum of Vertebrate Zoology, University of Ca...   \n",
       "\n",
       "                      geometry  \n",
       "0  POINT (-121.53812 37.08846)  \n",
       "1  POINT (-120.54942 35.47354)  \n",
       "2  POINT (-122.27063 37.87610)  \n",
       "3  POINT (-121.82297 38.44543)  \n",
       "4  POINT (-121.74559 38.54882)  "
      ]
     },
     "execution_count": 2,
     "metadata": {},
     "output_type": "execute_result"
    }
   ],
   "source": [
    "# read in data\n",
    "pigs = gpd.read_file(\"data/gbif_sus_scroga_california/gbif_sus_scroga_california.shp\")\n",
    "\n",
    "pigs.head()"
   ]
  },
  {
   "cell_type": "markdown",
   "id": "0ef0bf24-2e62-4313-b49f-ac074058a7b7",
   "metadata": {},
   "source": [
    "## `Geoseries` and `GeoDataFrame`\n",
    "\n",
    "Core data structure of Geopandas is `geopandas.GeodataFrame`\n",
    "\n",
    "`geopandas.GeoDataFrame` = think of it as a `pandas.DataFrame` with a dedicated geometry col8mns\n",
    "\n",
    "the **geometry column** in a `gpd.GeoDataFrame` holds the geometry (point, polygond, etc) of each spatial feature. This co;umn is of type `geopandas.GeoSeies`.\n",
    "\n",
    "The other non-geometry columns in the geodataframe are our usial `pd.Seires` types\n"
   ]
  },
  {
   "cell_type": "code",
   "execution_count": 4,
   "id": "7670e5aa-e8c6-4326-9d64-29331ba43e03",
   "metadata": {
    "tags": []
   },
   "outputs": [
    {
     "name": "stdout",
     "output_type": "stream",
     "text": [
      "<class 'geopandas.geodataframe.GeoDataFrame'>\n",
      "<class 'geopandas.geoseries.GeoSeries'>\n",
      "<class 'pandas.core.series.Series'>\n"
     ]
    }
   ],
   "source": [
    "# type of pigs dataframe\n",
    "print(type(pigs))\n",
    "\n",
    "#type of geometry columns\n",
    "print(type(pigs.geometry))\n",
    "\n",
    "#type of gbifID columns\n",
    "print(type(pigs.gbifID))\n"
   ]
  },
  {
   "cell_type": "markdown",
   "id": "bc1a7042-c7b5-4009-b4ea-20afd4cc446e",
   "metadata": {},
   "source": [
    "The new data type of the geometry column is reflected in the `dtypes`"
   ]
  },
  {
   "cell_type": "code",
   "execution_count": 5,
   "id": "4a832d2a-0988-422d-ac9b-1fa69af99dc0",
   "metadata": {
    "tags": []
   },
   "outputs": [
    {
     "data": {
      "text/plain": [
       "gbifID           int64\n",
       "species         object\n",
       "state           object\n",
       "individual     float64\n",
       "day            float64\n",
       "month          float64\n",
       "year           float64\n",
       "inst            object\n",
       "collection      object\n",
       "catalogNum      object\n",
       "identified      object\n",
       "geometry      geometry\n",
       "dtype: object"
      ]
     },
     "execution_count": 5,
     "metadata": {},
     "output_type": "execute_result"
    }
   ],
   "source": [
    "# check the data type of the columns\n",
    "pigs.dtypes"
   ]
  },
  {
   "cell_type": "markdown",
   "id": "e641dcee-43aa-451d-addb-774e85f49cd8",
   "metadata": {},
   "source": [
    "## Geometric Informatio\n",
    "\n",
    "two other important attributes of a `gpd.GeoDataFrame` are its coordinate reference stystem (crs) and its extent\n",
    "\n",
    "Think of the CRS as intructions to locate each feature on the surface of the earth\n",
    "\n",
    "We can access the crs of the Geo=dataframe using the `crs` attribute"
   ]
  },
  {
   "cell_type": "code",
   "execution_count": 6,
   "id": "beaef805-7df8-4666-ab1e-de2ca666e9c4",
   "metadata": {
    "tags": []
   },
   "outputs": [
    {
     "data": {
      "text/plain": [
       "<Geographic 2D CRS: EPSG:4326>\n",
       "Name: WGS 84\n",
       "Axis Info [ellipsoidal]:\n",
       "- Lat[north]: Geodetic latitude (degree)\n",
       "- Lon[east]: Geodetic longitude (degree)\n",
       "Area of Use:\n",
       "- name: World\n",
       "- bounds: (-180.0, -90.0, 180.0, 90.0)\n",
       "Datum: World Geodetic System 1984\n",
       "- Ellipsoid: WGS 84\n",
       "- Prime Meridian: Greenwich"
      ]
     },
     "execution_count": 6,
     "metadata": {},
     "output_type": "execute_result"
    }
   ],
   "source": [
    "# access CRS\n",
    "\n",
    "pigs.crs"
   ]
  },
  {
   "cell_type": "markdown",
   "id": "10f3e906-cd8e-4e91-ac78-c9283607605d",
   "metadata": {},
   "source": [
    "The **extent** of the geodata frame is the bounding box covering all of the features in our geodataframe.\n",
    "\n",
    "We access information to create the extend of a geodatafrae using the `total_bounds` attribute"
   ]
  },
  {
   "cell_type": "code",
   "execution_count": 7,
   "id": "2db97e0d-5eb2-47c5-97fb-47cc0de4dc32",
   "metadata": {
    "tags": []
   },
   "outputs": [
    {
     "data": {
      "text/plain": [
       "array([-124.29448 ,   32.593433, -115.4356  ,   40.934296])"
      ]
     },
     "execution_count": 7,
     "metadata": {},
     "output_type": "execute_result"
    }
   ],
   "source": [
    "pigs.total_bounds"
   ]
  },
  {
   "cell_type": "markdown",
   "id": "e4a0c7a1-ac5d-42a4-8e76-d1a469869760",
   "metadata": {},
   "source": [
    "## Data Wrangling\n",
    "Geop andas is built on top of `pandas`, so almost everything we have learned about wrangling pandas data still applies here\n",
    "\n",
    "**Example**\n",
    "\n",
    "We only want to use recent data for the wild pig observations"
   ]
  },
  {
   "cell_type": "code",
   "execution_count": 9,
   "id": "b0bdbd14-686e-4d0a-82f6-43809064fe49",
   "metadata": {
    "tags": []
   },
   "outputs": [
    {
     "data": {
      "text/plain": [
       "1818.0     31\n",
       "1910.0      1\n",
       "1925.0      1\n",
       "1927.0      4\n",
       "1929.0      3\n",
       "         ... \n",
       "2019.0    101\n",
       "2020.0    159\n",
       "2021.0    164\n",
       "2022.0    185\n",
       "2023.0     98\n",
       "Name: year, Length: 61, dtype: int64"
      ]
     },
     "execution_count": 9,
     "metadata": {},
     "output_type": "execute_result"
    }
   ],
   "source": [
    "# What years do we have?\n",
    "pigs.year.value_counts().sort_index()"
   ]
  },
  {
   "cell_type": "markdown",
   "id": "9b59d861-10f2-4047-80a5-fff9d84c3b73",
   "metadata": {},
   "source": [
    "We can use out usial data selections"
   ]
  },
  {
   "cell_type": "code",
   "execution_count": 10,
   "id": "2f93a063-07e2-4e23-9aaa-19fbb4defdfd",
   "metadata": {
    "tags": []
   },
   "outputs": [
    {
     "name": "stdout",
     "output_type": "stream",
     "text": [
      "1046\n",
      "606\n"
     ]
    },
    {
     "data": {
      "text/html": [
       "<div>\n",
       "<style scoped>\n",
       "    .dataframe tbody tr th:only-of-type {\n",
       "        vertical-align: middle;\n",
       "    }\n",
       "\n",
       "    .dataframe tbody tr th {\n",
       "        vertical-align: top;\n",
       "    }\n",
       "\n",
       "    .dataframe thead th {\n",
       "        text-align: right;\n",
       "    }\n",
       "</style>\n",
       "<table border=\"1\" class=\"dataframe\">\n",
       "  <thead>\n",
       "    <tr style=\"text-align: right;\">\n",
       "      <th></th>\n",
       "      <th>gbifID</th>\n",
       "      <th>species</th>\n",
       "      <th>state</th>\n",
       "      <th>individual</th>\n",
       "      <th>day</th>\n",
       "      <th>month</th>\n",
       "      <th>year</th>\n",
       "      <th>inst</th>\n",
       "      <th>collection</th>\n",
       "      <th>catalogNum</th>\n",
       "      <th>identified</th>\n",
       "      <th>geometry</th>\n",
       "    </tr>\n",
       "  </thead>\n",
       "  <tbody>\n",
       "    <tr>\n",
       "      <th>61</th>\n",
       "      <td>4424675671</td>\n",
       "      <td>Sus scrofa</td>\n",
       "      <td>California</td>\n",
       "      <td>NaN</td>\n",
       "      <td>23.0</td>\n",
       "      <td>9.0</td>\n",
       "      <td>2023.0</td>\n",
       "      <td>iNaturalist</td>\n",
       "      <td>Observations</td>\n",
       "      <td>186357811</td>\n",
       "      <td>madamcoyote</td>\n",
       "      <td>POINT (-124.28580 40.32482)</td>\n",
       "    </tr>\n",
       "    <tr>\n",
       "      <th>62</th>\n",
       "      <td>4424357894</td>\n",
       "      <td>Sus scrofa</td>\n",
       "      <td>California</td>\n",
       "      <td>NaN</td>\n",
       "      <td>6.0</td>\n",
       "      <td>10.0</td>\n",
       "      <td>2023.0</td>\n",
       "      <td>iNaturalist</td>\n",
       "      <td>Observations</td>\n",
       "      <td>186474363</td>\n",
       "      <td>skullroy</td>\n",
       "      <td>POINT (-120.82724 35.34895)</td>\n",
       "    </tr>\n",
       "    <tr>\n",
       "      <th>63</th>\n",
       "      <td>4424357588</td>\n",
       "      <td>Sus scrofa</td>\n",
       "      <td>California</td>\n",
       "      <td>NaN</td>\n",
       "      <td>5.0</td>\n",
       "      <td>10.0</td>\n",
       "      <td>2023.0</td>\n",
       "      <td>iNaturalist</td>\n",
       "      <td>Observations</td>\n",
       "      <td>186333783</td>\n",
       "      <td>Brian Ahern</td>\n",
       "      <td>POINT (-121.71683 37.34602)</td>\n",
       "    </tr>\n",
       "    <tr>\n",
       "      <th>64</th>\n",
       "      <td>4424288359</td>\n",
       "      <td>Sus scrofa</td>\n",
       "      <td>California</td>\n",
       "      <td>NaN</td>\n",
       "      <td>7.0</td>\n",
       "      <td>10.0</td>\n",
       "      <td>2023.0</td>\n",
       "      <td>iNaturalist</td>\n",
       "      <td>Observations</td>\n",
       "      <td>186602594</td>\n",
       "      <td>Steph</td>\n",
       "      <td>POINT (-119.62832 37.28900)</td>\n",
       "    </tr>\n",
       "    <tr>\n",
       "      <th>65</th>\n",
       "      <td>4424285723</td>\n",
       "      <td>Sus scrofa</td>\n",
       "      <td>California</td>\n",
       "      <td>NaN</td>\n",
       "      <td>5.0</td>\n",
       "      <td>10.0</td>\n",
       "      <td>2023.0</td>\n",
       "      <td>iNaturalist</td>\n",
       "      <td>Observations</td>\n",
       "      <td>186479844</td>\n",
       "      <td>natleecrockett</td>\n",
       "      <td>POINT (-121.77317 37.50025)</td>\n",
       "    </tr>\n",
       "    <tr>\n",
       "      <th>...</th>\n",
       "      <td>...</td>\n",
       "      <td>...</td>\n",
       "      <td>...</td>\n",
       "      <td>...</td>\n",
       "      <td>...</td>\n",
       "      <td>...</td>\n",
       "      <td>...</td>\n",
       "      <td>...</td>\n",
       "      <td>...</td>\n",
       "      <td>...</td>\n",
       "      <td>...</td>\n",
       "      <td>...</td>\n",
       "    </tr>\n",
       "    <tr>\n",
       "      <th>727</th>\n",
       "      <td>2563540650</td>\n",
       "      <td>Sus scrofa</td>\n",
       "      <td>California</td>\n",
       "      <td>NaN</td>\n",
       "      <td>20.0</td>\n",
       "      <td>1.0</td>\n",
       "      <td>2020.0</td>\n",
       "      <td>iNaturalist</td>\n",
       "      <td>Observations</td>\n",
       "      <td>37804173</td>\n",
       "      <td>Eric</td>\n",
       "      <td>POINT (-121.98693 37.87490)</td>\n",
       "    </tr>\n",
       "    <tr>\n",
       "      <th>728</th>\n",
       "      <td>2563520717</td>\n",
       "      <td>Sus scrofa</td>\n",
       "      <td>California</td>\n",
       "      <td>NaN</td>\n",
       "      <td>17.0</td>\n",
       "      <td>1.0</td>\n",
       "      <td>2020.0</td>\n",
       "      <td>iNaturalist</td>\n",
       "      <td>Observations</td>\n",
       "      <td>37758359</td>\n",
       "      <td>Jacob Martin</td>\n",
       "      <td>POINT (-122.00615 37.80658)</td>\n",
       "    </tr>\n",
       "    <tr>\n",
       "      <th>729</th>\n",
       "      <td>2563516057</td>\n",
       "      <td>Sus scrofa</td>\n",
       "      <td>California</td>\n",
       "      <td>NaN</td>\n",
       "      <td>18.0</td>\n",
       "      <td>1.0</td>\n",
       "      <td>2020.0</td>\n",
       "      <td>iNaturalist</td>\n",
       "      <td>Observations</td>\n",
       "      <td>37741027</td>\n",
       "      <td>Anne Parsons</td>\n",
       "      <td>POINT (-121.67951 37.32578)</td>\n",
       "    </tr>\n",
       "    <tr>\n",
       "      <th>730</th>\n",
       "      <td>2563508248</td>\n",
       "      <td>Sus scrofa</td>\n",
       "      <td>California</td>\n",
       "      <td>NaN</td>\n",
       "      <td>18.0</td>\n",
       "      <td>1.0</td>\n",
       "      <td>2020.0</td>\n",
       "      <td>iNaturalist</td>\n",
       "      <td>Observations</td>\n",
       "      <td>37723068</td>\n",
       "      <td>Anne Parsons</td>\n",
       "      <td>POINT (-121.67664 37.32354)</td>\n",
       "    </tr>\n",
       "    <tr>\n",
       "      <th>733</th>\n",
       "      <td>2557763832</td>\n",
       "      <td>Sus scrofa</td>\n",
       "      <td>California</td>\n",
       "      <td>NaN</td>\n",
       "      <td>11.0</td>\n",
       "      <td>1.0</td>\n",
       "      <td>2020.0</td>\n",
       "      <td>iNaturalist</td>\n",
       "      <td>Observations</td>\n",
       "      <td>37507147</td>\n",
       "      <td>edwardrooks</td>\n",
       "      <td>POINT (-121.75315 37.20952)</td>\n",
       "    </tr>\n",
       "  </tbody>\n",
       "</table>\n",
       "<p>606 rows × 12 columns</p>\n",
       "</div>"
      ],
      "text/plain": [
       "         gbifID     species       state  individual   day  month    year  \\\n",
       "61   4424675671  Sus scrofa  California         NaN  23.0    9.0  2023.0   \n",
       "62   4424357894  Sus scrofa  California         NaN   6.0   10.0  2023.0   \n",
       "63   4424357588  Sus scrofa  California         NaN   5.0   10.0  2023.0   \n",
       "64   4424288359  Sus scrofa  California         NaN   7.0   10.0  2023.0   \n",
       "65   4424285723  Sus scrofa  California         NaN   5.0   10.0  2023.0   \n",
       "..          ...         ...         ...         ...   ...    ...     ...   \n",
       "727  2563540650  Sus scrofa  California         NaN  20.0    1.0  2020.0   \n",
       "728  2563520717  Sus scrofa  California         NaN  17.0    1.0  2020.0   \n",
       "729  2563516057  Sus scrofa  California         NaN  18.0    1.0  2020.0   \n",
       "730  2563508248  Sus scrofa  California         NaN  18.0    1.0  2020.0   \n",
       "733  2557763832  Sus scrofa  California         NaN  11.0    1.0  2020.0   \n",
       "\n",
       "            inst    collection catalogNum      identified  \\\n",
       "61   iNaturalist  Observations  186357811     madamcoyote   \n",
       "62   iNaturalist  Observations  186474363        skullroy   \n",
       "63   iNaturalist  Observations  186333783     Brian Ahern   \n",
       "64   iNaturalist  Observations  186602594           Steph   \n",
       "65   iNaturalist  Observations  186479844  natleecrockett   \n",
       "..           ...           ...        ...             ...   \n",
       "727  iNaturalist  Observations   37804173            Eric   \n",
       "728  iNaturalist  Observations   37758359    Jacob Martin   \n",
       "729  iNaturalist  Observations   37741027    Anne Parsons   \n",
       "730  iNaturalist  Observations   37723068    Anne Parsons   \n",
       "733  iNaturalist  Observations   37507147     edwardrooks   \n",
       "\n",
       "                        geometry  \n",
       "61   POINT (-124.28580 40.32482)  \n",
       "62   POINT (-120.82724 35.34895)  \n",
       "63   POINT (-121.71683 37.34602)  \n",
       "64   POINT (-119.62832 37.28900)  \n",
       "65   POINT (-121.77317 37.50025)  \n",
       "..                           ...  \n",
       "727  POINT (-121.98693 37.87490)  \n",
       "728  POINT (-122.00615 37.80658)  \n",
       "729  POINT (-121.67951 37.32578)  \n",
       "730  POINT (-121.67664 37.32354)  \n",
       "733  POINT (-121.75315 37.20952)  \n",
       "\n",
       "[606 rows x 12 columns]"
      ]
     },
     "execution_count": 10,
     "metadata": {},
     "output_type": "execute_result"
    }
   ],
   "source": [
    "# Select data from 2020 onwards\n",
    "pigs_recent = pigs[pigs.year>=2020]\n",
    "\n",
    "#print length of the original dataframe\n",
    "print(len(pigs))\n",
    "\n",
    "#print length of subset\n",
    "print(len(pigs_recent))\n",
    "\n",
    "pigs_recent"
   ]
  },
  {
   "cell_type": "markdown",
   "id": "8e6d1626-50a6-4a4f-8207-e422a95536a9",
   "metadata": {},
   "source": [
    "## PLotting\n",
    "\n",
    "### `plot()`\n",
    "\n",
    "`gpd.GeoDataFrame` has aplot method that we can call directly to create a quick view of the data\n",
    "\n",
    "- The ggeospatial information will bbe automatically used to rceate the axes of the plot\n",
    "\n",
    "**Example**\n",
    "Quick plot of recent wild pigs sigtings"
   ]
  },
  {
   "cell_type": "code",
   "execution_count": 12,
   "id": "5ce53fec-9c57-4802-b0fa-830f1ab1e835",
   "metadata": {
    "tags": []
   },
   "outputs": [
    {
     "data": {
      "text/plain": [
       "<AxesSubplot:>"
      ]
     },
     "execution_count": 12,
     "metadata": {},
     "output_type": "execute_result"
    },
    {
     "data": {
      "image/png": "[encoded data removed]",
      "text/plain": [
       "<Figure size 640x480 with 1 Axes>"
      ]
     },
     "metadata": {},
     "output_type": "display_data"
    }
   ],
   "source": [
    "pigs_recent.plot()"
   ]
  },
  {
   "cell_type": "markdown",
   "id": "bcaf78b6-642d-418c-8de8-8fd6330e9e8e",
   "metadata": {},
   "source": [
    "### `matplotlib`'s `fig` and `ax`\n",
    "\n",
    "We use `matplotlib` to creat more complex, customized graphs. In particular, maps.\n",
    "\n",
    "We can interrat with `matplotlib` via its `pyplot` interface, which we imported as\n",
    "\n",
    "```python\n",
    "import matplotlib.pyplot as plt\n",
    "```\n",
    "\n",
    "`plt` refers only to pyplot and not all of matplotlib\n",
    "\n",
    "Matplotlib graphs the data in a **figure** which can have one or more **axes**\n",
    "The axis is *only* the area specified by the x-y axis and whatb is plotted in it.\n",
    "To initialize a new blank figutr:\n",
    "\n",
    "1. initialize a black figure and axes by calling `pyplot`'s `subplots()` function, and\n",
    "2. show the graph using `plt.show()`"
   ]
  },
  {
   "cell_type": "code",
   "execution_count": 13,
   "id": "508dd14b-03af-4850-b5d2-a83cd0b92f2c",
   "metadata": {
    "tags": []
   },
   "outputs": [
    {
     "data": {
      "image/png": "[encoded data removed]",
      "text/plain": [
       "<Figure size 640x480 with 1 Axes>"
      ]
     },
     "metadata": {},
     "output_type": "display_data"
    }
   ],
   "source": [
    "# create a blank figure*) and an empty axis\n",
    "fig, ax = plt.subplots()\n",
    "\n",
    "#display figutr\n",
    "plt.show()\n"
   ]
  },
  {
   "cell_type": "markdown",
   "id": "5a92ef29-7322-48a0-b832-b601b02c59e5",
   "metadata": {},
   "source": [
    "## Adding a layer\n",
    "\n",
    "When using `matplotlib` it can be useful to think of creating a plot, as adding layers to an axis. \n",
    "\n",
    "The general syntax to plot a dataframe `df` into an axis is:\n",
    "\n",
    "```python\n",
    "# create a new figure\n",
    "fig, ax = plt.subplots()\n",
    "\n",
    "#plot df on the ax axis\n",
    "df.plot(ax=ax,\n",
    "       ...) # other arguments for plot functions(color, labels, ect)\n",
    "\n",
    "#display figure\n",
    "plt.show()\n",
    "```\n",
    "\n",
    "**Example**\n",
    "\n",
    "The first layer we want to add to our axis is the `pigs_recent` point data"
   ]
  },
  {
   "cell_type": "code",
   "execution_count": 15,
   "id": "eb7a9ae4-a8d6-4444-802f-705c8d1e0f74",
   "metadata": {
    "tags": []
   },
   "outputs": [
    {
     "data": {
      "text/plain": [
       "<function matplotlib.pyplot.show(close=None, block=None)>"
      ]
     },
     "execution_count": 15,
     "metadata": {},
     "output_type": "execute_result"
    },
    {
     "data": {
      "image/png": "[encoded data removed]",
      "text/plain": [
       "<Figure size 640x480 with 1 Axes>"
      ]
     },
     "metadata": {},
     "output_type": "display_data"
    }
   ],
   "source": [
    "# create new figure and axis\n",
    "fig, ax = plt.subplots()\n",
    "\n",
    "# add pigs point plot to our figure's axis\n",
    "pigs_recent.plot(ax=ax)\n",
    "\n",
    "# display figure\n",
    "plt.show"
   ]
  },
  {
   "cell_type": "markdown",
   "id": "3d687397-c49a-4eac-a28e-c31ee11c921b",
   "metadata": {},
   "source": [
    "### Customization\n",
    "\n",
    "Matplot lib allows for a lot of customization.\n",
    "Some can be done directly in the `plot()` fucntion, while other is done by updating the attributes of the axis\n",
    "\n",
    "Some basic customization of our pigs data:"
   ]
  },
  {
   "cell_type": "code",
   "execution_count": 18,
   "id": "7a2976eb-5126-4a88-9886-3791978d37cb",
   "metadata": {
    "tags": []
   },
   "outputs": [
    {
     "data": {
      "image/png": "[encoded data removed]",
      "text/plain": [
       "<Figure size 640x480 with 1 Axes>"
      ]
     },
     "metadata": {},
     "output_type": "display_data"
    }
   ],
   "source": [
    "# initialize an empty figutr\n",
    "\n",
    "fig, ax = plt.subplots()\n",
    "\n",
    "#add data to axis\n",
    "#notice customization happens as arguments in plot()\n",
    "pigs_plot = pigs_recent.plot(ax=ax,\n",
    "                alpha=0.5,\n",
    "                color=\"red\")\n",
    "\n",
    "#update axis\n",
    "#customization seperate from the data plotting\n",
    "ax.set_title('Reported \"Sus Scrofa\" sightings in CA (2020-2023)')\n",
    "ax.set_xlabel('Longitude')\n",
    "ax.set_ylabel('Latitude')\n",
    "\n",
    "# display figure\n",
    "plt.show()\n",
    "\n"
   ]
  },
  {
   "cell_type": "markdown",
   "id": "4b3cf8d0-b951-4302-a8ed-11a349872554",
   "metadata": {},
   "source": [
    "## Exercise\n",
    "\n",
    "1. Open the CA boundary shapefile and store as ca_boundary variable. How many features does it have?\\\n",
    "2. Add it to the pigs signtings graph so that the CA boundary appears behind the points"
   ]
  },
  {
   "cell_type": "code",
   "execution_count": 17,
   "id": "df42b82e-43c8-4afc-8017-8bc975dc5172",
   "metadata": {
    "tags": []
   },
   "outputs": [],
   "source": [
    "ca_boundary = gpd.read_file('data/ca-boundary/ca-boundary.shp')"
   ]
  },
  {
   "cell_type": "code",
   "execution_count": 19,
   "id": "1006db0f-4766-4f2a-af29-52b3d4ef8a2f",
   "metadata": {
    "tags": []
   },
   "outputs": [
    {
     "data": {
      "text/html": [
       "<div>\n",
       "<style scoped>\n",
       "    .dataframe tbody tr th:only-of-type {\n",
       "        vertical-align: middle;\n",
       "    }\n",
       "\n",
       "    .dataframe tbody tr th {\n",
       "        vertical-align: top;\n",
       "    }\n",
       "\n",
       "    .dataframe thead th {\n",
       "        text-align: right;\n",
       "    }\n",
       "</style>\n",
       "<table border=\"1\" class=\"dataframe\">\n",
       "  <thead>\n",
       "    <tr style=\"text-align: right;\">\n",
       "      <th></th>\n",
       "      <th>REGION</th>\n",
       "      <th>DIVISION</th>\n",
       "      <th>STATEFP</th>\n",
       "      <th>STATENS</th>\n",
       "      <th>GEOID</th>\n",
       "      <th>STUSPS</th>\n",
       "      <th>NAME</th>\n",
       "      <th>LSAD</th>\n",
       "      <th>MTFCC</th>\n",
       "      <th>FUNCSTAT</th>\n",
       "      <th>ALAND</th>\n",
       "      <th>AWATER</th>\n",
       "      <th>INTPTLAT</th>\n",
       "      <th>INTPTLON</th>\n",
       "      <th>geometry</th>\n",
       "    </tr>\n",
       "  </thead>\n",
       "  <tbody>\n",
       "    <tr>\n",
       "      <th>0</th>\n",
       "      <td>4</td>\n",
       "      <td>9</td>\n",
       "      <td>06</td>\n",
       "      <td>01779778</td>\n",
       "      <td>06</td>\n",
       "      <td>CA</td>\n",
       "      <td>California</td>\n",
       "      <td>00</td>\n",
       "      <td>G4000</td>\n",
       "      <td>A</td>\n",
       "      <td>403501101370</td>\n",
       "      <td>20466718403</td>\n",
       "      <td>+37.1551773</td>\n",
       "      <td>-119.5434183</td>\n",
       "      <td>MULTIPOLYGON (((-119.63473 33.26545, -119.6363...</td>\n",
       "    </tr>\n",
       "  </tbody>\n",
       "</table>\n",
       "</div>"
      ],
      "text/plain": [
       "  REGION DIVISION STATEFP   STATENS GEOID STUSPS        NAME LSAD  MTFCC  \\\n",
       "0      4        9      06  01779778    06     CA  California   00  G4000   \n",
       "\n",
       "  FUNCSTAT         ALAND       AWATER     INTPTLAT      INTPTLON  \\\n",
       "0        A  403501101370  20466718403  +37.1551773  -119.5434183   \n",
       "\n",
       "                                            geometry  \n",
       "0  MULTIPOLYGON (((-119.63473 33.26545, -119.6363...  "
      ]
     },
     "execution_count": 19,
     "metadata": {},
     "output_type": "execute_result"
    }
   ],
   "source": [
    "ca_boundary.head()"
   ]
  },
  {
   "cell_type": "code",
   "execution_count": 30,
   "id": "f5b46e91-ce8a-4672-9a8a-d139183af386",
   "metadata": {
    "tags": []
   },
   "outputs": [
    {
     "data": {
      "text/plain": [
       "0    MultiPolygon\n",
       "dtype: object"
      ]
     },
     "execution_count": 30,
     "metadata": {},
     "output_type": "execute_result"
    }
   ],
   "source": [
    "#geom_type will show what kind of vector data is stired in each picture of the geometry column\n",
    "ca_boundary.geom_type"
   ]
  },
  {
   "cell_type": "code",
   "execution_count": 29,
   "id": "e1a3e7c0-008d-491f-ab7e-096c96927fd7",
   "metadata": {
    "tags": []
   },
   "outputs": [
    {
     "data": {
      "text/plain": [
       "Text(132.699971804565, 0.5, 'Latitude')"
      ]
     },
     "execution_count": 29,
     "metadata": {},
     "output_type": "execute_result"
    },
    {
     "data": {
      "image/png": "[encoded data removed]",
      "text/plain": [
       "<Figure size 640x480 with 1 Axes>"
      ]
     },
     "metadata": {},
     "output_type": "display_data"
    }
   ],
   "source": [
    "fig, ax = plt.subplots()\n",
    "\n",
    "ca_boundary.plot(ax=ax,\n",
    "                alpha = 0.8,\n",
    "                color = \"tan\",\n",
    "                edgecolor = \"grey\")\n",
    "\n",
    "pigs_recent.plot(ax=ax,\n",
    "                alpha=0.5,\n",
    "                color=\"tomato\")\n",
    "\n",
    "ax.set_title('Reported \"Sus Scrofa\" sightings in CA (2020-2023)')\n",
    "ax.set_xlabel('Longitude')\n",
    "ax.set_ylabel('Latitude')"
   ]
  },
  {
   "cell_type": "code",
   "execution_count": null,
   "id": "b154a559-f98e-4321-ac44-75097e5d3766",
   "metadata": {},
   "outputs": [],
   "source": []
  }
 ],
 "metadata": {
  "kernelspec": {
   "display_name": "Anaconda 3 (Base)",
   "language": "python",
   "name": "base"
  },
  "language_info": {
   "codemirror_mode": {
    "name": "ipython",
    "version": 3
   },
   "file_extension": ".py",
   "mimetype": "text/x-python",
   "name": "python",
   "nbconvert_exporter": "python",
   "pygments_lexer": "ipython3",
   "version": "3.9.13"
  }
 },
 "nbformat": 4,
 "nbformat_minor": 5
}
